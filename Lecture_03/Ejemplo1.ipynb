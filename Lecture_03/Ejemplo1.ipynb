{
 "cells": [
  {
   "cell_type": "markdown",
   "metadata": {},
   "source": [
    "Búsqueda en un Grafo de Ciudades usando BFS\n",
    "\n",
    "(Búsqueda en Anchura – Breadth-First Search)\n",
    "\n",
    "Este código implementa un problema de búsqueda en un espacio de estados, donde:\n",
    "\n",
    "- ✅ Estados → Las ciudades del mapa.\n",
    "- ✅ Estado inicial → La ciudad de partida.\n",
    "- ✅ Estado objetivo → Bucharest.\n",
    "- ✅ Acciones → Moverse de una ciudad a otra si hay una conexión directa."
   ]
  },
  {
   "cell_type": "markdown",
   "metadata": {},
   "source": [
    "![Mapa de Rumania](romania-distances.jpg)"
   ]
  },
  {
   "cell_type": "code",
   "execution_count": 7,
   "metadata": {},
   "outputs": [],
   "source": [
    "from collections import deque"
   ]
  },
  {
   "cell_type": "code",
   "execution_count": 8,
   "metadata": {},
   "outputs": [],
   "source": [
    "# Definimos el grafo de ciudades como un diccionario\n",
    "mapa_rumania = {\n",
    "    'Arad': ['Zerind', 'Sibiu', 'Timisoara'],\n",
    "    'Zerind': ['Arad', 'Oradea'],\n",
    "    'Oradea': ['Zerind', 'Sibiu'],\n",
    "    'Sibiu': ['Arad', 'Oradea', 'Fagaras', 'Rimnicu Vilcea'],\n",
    "    'Timisoara': ['Arad', 'Lugoj'],\n",
    "    'Lugoj': ['Timisoara', 'Mehadia'],\n",
    "    'Mehadia': ['Lugoj', 'Drobeta'],\n",
    "    'Drobeta': ['Mehadia', 'Craiova'],\n",
    "    'Craiova': ['Drobeta', 'Rimnicu Vilcea', 'Pitesti'],\n",
    "    'Rimnicu Vilcea': ['Sibiu', 'Craiova', 'Pitesti'],\n",
    "    'Fagaras': ['Sibiu', 'Bucharest'],\n",
    "    'Pitesti': ['Rimnicu Vilcea', 'Craiova', 'Bucharest'],\n",
    "    'Bucharest': ['Fagaras', 'Pitesti']\n",
    "}"
   ]
  },
  {
   "cell_type": "code",
   "execution_count": 9,
   "metadata": {},
   "outputs": [],
   "source": [
    "def bfs_ruta(inicio, objetivo):\n",
    "    \"\"\" Algoritmo de búsqueda en anchura (BFS) para encontrar el camino más corto a Bucharest \"\"\"\n",
    "    cola = deque([[inicio]])  # Cola de caminos por explorar\n",
    "    visitados = set()  # Conjunto de ciudades visitadas\n",
    "\n",
    "    while cola:\n",
    "        camino = cola.popleft()  # Sacamos el primer camino de la cola\n",
    "        ciudad_actual = camino[-1]  # Última ciudad en el camino\n",
    "\n",
    "        if ciudad_actual == objetivo:  # Si encontramos Bucharest, retornamos el camino\n",
    "            return camino\n",
    "        \n",
    "        if ciudad_actual not in visitados:\n",
    "            visitados.add(ciudad_actual)  # Marcamos la ciudad como visitada\n",
    "\n",
    "            for ciudad_vecina in mapa_rumania.get(ciudad_actual, []):\n",
    "                nuevo_camino = list(camino)  # Copiamos el camino actual\n",
    "                nuevo_camino.append(ciudad_vecina)  # Agregamos la nueva ciudad\n",
    "                cola.append(nuevo_camino)  # Encolamos el nuevo camino para exploración\n",
    "\n",
    "    return None  # Si no encontramos camino"
   ]
  },
  {
   "cell_type": "code",
   "execution_count": 10,
   "metadata": {},
   "outputs": [
    {
     "name": "stdout",
     "output_type": "stream",
     "text": [
      "Ruta encontrada desde Arad a Bucharest: ['Arad', 'Sibiu', 'Fagaras', 'Bucharest']\n"
     ]
    }
   ],
   "source": [
    "# Prueba del algoritmo\n",
    "inicio = \"Arad\"\n",
    "objetivo = \"Bucharest\"\n",
    "ruta_encontrada = bfs_ruta(inicio, objetivo)\n",
    "\n",
    "if ruta_encontrada:\n",
    "    print(f\"Ruta encontrada desde {inicio} a {objetivo}: {ruta_encontrada}\")\n",
    "else:\n",
    "    print(\"No se encontró una ruta.\")"
   ]
  },
  {
   "cell_type": "code",
   "execution_count": null,
   "metadata": {},
   "outputs": [],
   "source": []
  }
 ],
 "metadata": {
  "kernelspec": {
   "display_name": "Python 3",
   "language": "python",
   "name": "python3"
  },
  "language_info": {
   "codemirror_mode": {
    "name": "ipython",
    "version": 3
   },
   "file_extension": ".py",
   "mimetype": "text/x-python",
   "name": "python",
   "nbconvert_exporter": "python",
   "pygments_lexer": "ipython3",
   "version": "3.10.12"
  }
 },
 "nbformat": 4,
 "nbformat_minor": 2
}
